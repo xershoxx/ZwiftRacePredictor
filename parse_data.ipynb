{
    "cells": [
        {
            "cell_type": "code",
            "execution_count": 67,
            "source": [
                "#### import dependecies ####\r\n",
                "\r\n",
                "from bs4 import BeautifulSoup\r\n",
                "import pandas as pd"
            ],
            "outputs": [],
            "metadata": {}
        },
        {
            "cell_type": "code",
            "execution_count": 68,
            "source": [
                "#### reading and formatting input ####\r\n",
                "\r\n",
                "# read raw data from file\r\n",
                "file1 = open(\"signups.txt\",\"r+\") \r\n",
                "raw_data = file1.read()\r\n",
                "\r\n",
                "# format raw data\r\n",
                "formated_data = BeautifulSoup(raw_data, \"lxml\")\r\n",
                "\r\n",
                "# extract signup table from formated data\r\n",
                "signups = formated_data.find('table', {'id':'table_event_signups'})\r\n",
                "\r\n",
                "# split signup table into rows, creating the field (array of riders)\r\n",
                "field = signups.find_all('tr')"
            ],
            "outputs": [],
            "metadata": {}
        },
        {
            "cell_type": "code",
            "execution_count": 69,
            "source": [
                "#### splitting input into rider list ####\r\n",
                "\r\n",
                "rider_list = []\r\n",
                "\r\n",
                "# each row in field is one rider\r\n",
                "for row in field:\r\n",
                "\r\n",
                "    # split row into riders attributes\r\n",
                "    attributes = row.find_all('td')\r\n",
                "\r\n",
                "    # remove overhead\r\n",
                "    row = [row.text.strip() for row in attributes]\r\n",
                "\r\n",
                "    # add rider to list\r\n",
                "    if row:\r\n",
                "        rider_list.append(row)\r\n",
                "\r\n",
                "# coverting list into dataframe for easier handling\r\n",
                "rider = pd.DataFrame(rider_list)"
            ],
            "outputs": [],
            "metadata": {}
        },
        {
            "cell_type": "code",
            "execution_count": 70,
            "source": [
                "#### cleansing attributes of each rider ####\r\n",
                "\r\n",
                "# class zp\r\n",
                "rider[0] = rider[0].astype(str)\r\n",
                "\r\n",
                "# class own\r\n",
                "rider[1] = rider[1].astype(str)\r\n",
                "\r\n",
                "# rank\r\n",
                "rider[2] = rider[2].astype(float)\r\n",
                "\r\n",
                "# name\r\n",
                "rider[3] = rider[3].astype(str)\r\n",
                "\r\n",
                "# weight\r\n",
                "rider[4] = rider[4].str.replace('kg', '')\r\n",
                "rider[4] = rider[4].astype(float)\r\n",
                "\r\n",
                "# age group\r\n",
                "rider[5] = rider[5].astype(str)\r\n",
                "\r\n",
                "# height\r\n",
                "rider[6] = rider[6].str.replace('cm', '')\r\n",
                "rider[6] = rider[6].astype(float)\r\n",
                "    \r\n",
                "# twenty minute wkg\r\n",
                "rider[7] = rider[7].str.replace(' wkg', '')\r\n",
                "rider[7] = rider[7].astype(float)\r\n",
                "\r\n",
                "# twenty minute watts\r\n",
                "rider[8] = rider[8].str.replace(' w', '')\r\n",
                "rider[8] = rider[8].astype(float)\r\n",
                "\r\n",
                "# fifteen second wkg\r\n",
                "rider[9] = rider[9].str.replace(' wkg', '')\r\n",
                "rider[9] = rider[9].astype(float)\r\n",
                "\r\n",
                "# fifteen second watts\r\n",
                "rider[10] = rider[10].str.replace(' w', '')\r\n",
                "rider[10] = rider[10].astype(float)"
            ],
            "outputs": [],
            "metadata": {}
        }
    ],
    "metadata": {
        "orig_nbformat": 4,
        "language_info": {
            "name": "python",
            "version": "3.9.6",
            "mimetype": "text/x-python",
            "codemirror_mode": {
                "name": "ipython",
                "version": 3
            },
            "pygments_lexer": "ipython3",
            "nbconvert_exporter": "python",
            "file_extension": ".py"
        },
        "kernelspec": {
            "name": "python3",
            "display_name": "Python 3.9.6 64-bit (windows store)"
        },
        "interpreter": {
            "hash": "774e6fcc6f070d51f9cbbd5d451bfead29794729b3d25570d8ca11c219a5e420"
        }
    },
    "nbformat": 4,
    "nbformat_minor": 2
}