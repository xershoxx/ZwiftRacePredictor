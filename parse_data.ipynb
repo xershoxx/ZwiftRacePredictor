{
    "cells": [
        {
            "cell_type": "code",
            "execution_count": 14,
            "source": [
                "from bs4 import BeautifulSoup"
            ],
            "outputs": [],
            "metadata": {}
        },
        {
            "cell_type": "code",
            "execution_count": 32,
            "source": [
                "#### reading and formatting input ####\r\n",
                "\r\n",
                "# read raw data from file\r\n",
                "file1 = open(\"signups.txt\",\"r+\") \r\n",
                "raw_data = file1.read()\r\n",
                "\r\n",
                "# format raw data\r\n",
                "formated_data = BeautifulSoup(raw_data, \"lxml\")\r\n",
                "\r\n",
                "# extract signup table from formated data\r\n",
                "signups = formated_data.find('table', {'id':'table_event_signups'})\r\n",
                "\r\n",
                "# split signup table into rows, creating the field (array of riders)\r\n",
                "field = signups.find_all('tr')"
            ],
            "outputs": [],
            "metadata": {}
        },
        {
            "cell_type": "code",
            "execution_count": 39,
            "source": [
                "#### splitting input into rider list ####\r\n",
                "\r\n",
                "rider = []\r\n",
                "\r\n",
                "# each row in field is one rider\r\n",
                "for row in field:\r\n",
                "\r\n",
                "    # split row into riders attributes\r\n",
                "    td = row.find_all('td')\r\n",
                "\r\n",
                "    # remove overhead\r\n",
                "    row = [row.text.strip() for i in td if row.text.strip()]\r\n",
                "\r\n",
                "    # add rider to list\r\n",
                "    rider.append(row)\r\n",
                "\r\n",
                "print(rider[4])"
            ],
            "outputs": [
                {
                    "output_type": "stream",
                    "name": "stdout",
                    "text": [
                        "[]\n",
                        "[<td class=\"text-left text-nowrap padright24\"><span class=\"label label-cat-C label-as-badge\" style=\"font-size:8px;\">C</span> </td>, <td class=\"text-left text-nowrap padright24 sorting_1\"><span class=\"label label-cat-C label-as-badge\" style=\"font-size:[object Object]px;\">C</span> </td>, <td class=\"text-right text-nowrap\"><small>600.00</small></td>, <td class=\"text-left text-nowrap athlete_col sorting_3\"><div style=\"width:100%;position:relative\"><span class=\"flag-icon flag-icon-au\"></span> LEADER: <a href=\"profile.php?z=148655\" title=\"Jon Pettingill JP\">Jon Pettingill JP</a><small style=\"position:absolute;right:0\"><span class=\"label label-custom\" style=\"margin-left:5px;background-color:#ee1f1f;border-color:#4d08ff !important;color:#ffffff\"><a href=\"team.php?id=3249\" style=\"color:#ffffff\">[AsC]</a></span></small></div></td>, <td class=\"text-right text-nowrap\"><b class=\"text-red\">84.0<rsmall>kg</rsmall></b></td>, <td class=\"text-center text-nowrap\">50+</td>, <td class=\"text-center text-nowrap\"><b class=\"text-red\">185<rsmall>cm</rsmall></b></td>, <td class=\"text-right text-nowrap\">3.4<rsmall> wkg</rsmall></td>, <td class=\"text-right text-nowrap\">288<rsmall> w</rsmall></td>, <td class=\"text-right text-nowrap\">8.2<rsmall> wkg</rsmall></td>, <td class=\"text-right text-nowrap\">677<rsmall> w</rsmall></td>, <td class=\"text-left text-nowrap padright24\"></td>]\n",
                        "[<td class=\"text-left text-nowrap padright24\"><span class=\"label label-cat-Aplus label-as-badge\" style=\"font-size:8px;\">A+</span> </td>, <td class=\"text-left text-nowrap padright24 sorting_1\"><span class=\"label label-cat-C label-as-badge\" style=\"font-size:[object Object]px;\">C</span> </td>, <td class=\"text-right text-nowrap\"><small>157.69</small></td>, <td class=\"text-left text-nowrap athlete_col sorting_3\"><div style=\"width:100%;position:relative\"><span class=\"flag-icon flag-icon-th\"></span> <a href=\"profile.php?z=811856\" title=\"Peerapong Ladngern (EVO Warriors)\">Peerapong Ladngern (EVO Warriors)</a><small style=\"position:absolute;right:0\"><span class=\"label label-custom\" style=\"margin-left:5px;background-color:#2e1c1c;border-color:#ff09ff !important;color:#ff09ff\"><a href=\"team.php?id=4742\" style=\"color:#ff09ff\">EVOLUTION </a></span></small></div></td>, <td class=\"text-right text-nowrap\"><b class=\"text-red\">70.0<rsmall>kg</rsmall></b></td>, <td class=\"text-center text-nowrap\">Snr</td>, <td class=\"text-center text-nowrap\"><b class=\"text-red\">174<rsmall>cm</rsmall></b></td>, <td class=\"text-right text-nowrap\">5.4<rsmall> wkg</rsmall></td>, <td class=\"text-right text-nowrap\">380<rsmall> w</rsmall></td>, <td class=\"text-right text-nowrap\">13.4<rsmall> wkg</rsmall></td>, <td class=\"text-right text-nowrap\">937<rsmall> w</rsmall></td>, <td class=\"text-left text-nowrap padright24\"></td>]\n",
                        "[<td class=\"text-left text-nowrap padright24\"><span class=\"label label-cat-C label-as-badge\" style=\"font-size:8px;\">C</span> </td>, <td class=\"text-left text-nowrap padright24 sorting_1\"><span class=\"label label-cat-C label-as-badge\" style=\"font-size:[object Object]px;\">C</span> </td>, <td class=\"text-right text-nowrap\"><small>464.11</small></td>, <td class=\"text-left text-nowrap athlete_col sorting_3\"><div style=\"width:100%;position:relative\"><span class=\"flag-icon flag-icon-se\"></span> <a href=\"profile.php?z=3757332\" title=\"Mans Franklin [SZ]\">Mans Franklin [SZ]</a><small style=\"position:absolute;right:0\"><span class=\"label label-custom\" style=\"margin-left:5px;background-color:#0073b7;border-color:#0073b7 !important;color:#ffffff\"><a href=\"team.php?id=111\" style=\"color:#ffffff\">SZR</a></span></small></div></td>, <td class=\"text-right text-nowrap\">82.0<rsmall>kg</rsmall></td>, <td class=\"text-center text-nowrap\">Mas</td>, <td class=\"text-center text-nowrap\"><b class=\"text-red\">185<rsmall>cm</rsmall></b></td>, <td class=\"text-right text-nowrap\">3.2<rsmall> wkg</rsmall></td>, <td class=\"text-right text-nowrap\">253<rsmall> w</rsmall></td>, <td class=\"text-right text-nowrap\">8.9<rsmall> wkg</rsmall></td>, <td class=\"text-right text-nowrap\">715<rsmall> w</rsmall></td>, <td class=\"text-left text-nowrap padright24\"></td>]\n",
                        "[<td class=\"text-left text-nowrap padright24\"><span class=\"label label-cat-B label-as-badge\" style=\"font-size:8px;\">B</span> </td>, <td class=\"text-left text-nowrap padright24 sorting_1\"><span class=\"label label-cat-C label-as-badge\" style=\"font-size:[object Object]px;\">C</span> </td>, <td class=\"text-right text-nowrap\"><small>421.65</small></td>, <td class=\"text-left text-nowrap athlete_col sorting_3\"><div style=\"width:100%;position:relative\"><span class=\"flag-icon flag-icon-fr\"></span> <a href=\"profile.php?z=1076495\" title=\"44006 nicolas roques (TC15)\">44006 nicolas roques (TC15)</a><small style=\"position:absolute;right:0\"><span class=\"label label-custom\" style=\"margin-left:5px;background-color:#000000;border-color:#e81212 !important;color:#ea1010\"><a href=\"team.php?id=3041\" style=\"color:#ea1010\">TC15</a></span></small></div></td>, <td class=\"text-right text-nowrap\">77.0<rsmall>kg</rsmall></td>, <td class=\"text-center text-nowrap\">Vet</td>, <td class=\"text-center text-nowrap\">175<rsmall>cm</rsmall></td>, <td class=\"text-right text-nowrap\">3.6<rsmall> wkg</rsmall></td>, <td class=\"text-right text-nowrap\">280<rsmall> w</rsmall></td>, <td class=\"text-right text-nowrap\">7.2<rsmall> wkg</rsmall></td>, <td class=\"text-right text-nowrap\">554<rsmall> w</rsmall></td>, <td class=\"text-left text-nowrap padright24\"></td>]\n",
                        "[<td class=\"text-left text-nowrap padright24\"><span class=\"label label-cat-Aplus label-as-badge\" style=\"font-size:8px;\"></span> </td>, <td class=\"text-left text-nowrap padright24 sorting_1\"><span class=\"label label-cat-C label-as-badge\" style=\"font-size:[object Object]px;\">C</span> </td>, <td class=\"text-right text-nowrap\"><small>600.00</small></td>, <td class=\"text-left text-nowrap athlete_col sorting_3\"><div style=\"width:100%;position:relative\"><span class=\"flag-icon flag-icon-de\"></span> <a href=\"profile.php?z=4033233\" title=\"Matthias Brock (FL)\">Matthias Brock (FL)</a><small style=\"position:absolute;right:0\"><span class=\"label label-custom\" style=\"margin-left:5px;background-color:#0073b7;border-color:#0073b7 !important;color:#ffffff\"><a href=\"team.php?id=4474\" style=\"color:#ffffff\">ZRSH</a></span></small></div></td>, <td class=\"text-right text-nowrap\">72.0<rsmall>kg</rsmall></td>, <td class=\"text-center text-nowrap\">Mas</td>, <td class=\"text-center text-nowrap\">184<rsmall>cm</rsmall></td>, <td class=\"text-right text-nowrap\">3.2<rsmall> wkg</rsmall></td>, <td class=\"text-right text-nowrap\">234<rsmall> w</rsmall></td>, <td class=\"text-right text-nowrap\">6.6<rsmall> wkg</rsmall></td>, <td class=\"text-right text-nowrap\">479<rsmall> w</rsmall></td>, <td class=\"text-left text-nowrap padright24\"></td>]\n",
                        "[<td class=\"text-left text-nowrap padright24\"><span class=\"label label-cat-C label-as-badge\" style=\"font-size:8px;\">C</span> </td>, <td class=\"text-left text-nowrap padright24 sorting_1\"><span class=\"label label-cat-C label-as-badge\" style=\"font-size:[object Object]px;\">C</span> </td>, <td class=\"text-right text-nowrap\"><small>571.08</small></td>, <td class=\"text-left text-nowrap athlete_col sorting_3\"><div style=\"width:100%;position:relative\"><span class=\"flag-icon flag-icon-sg\"></span> <a class=\"small\" href=\"profile.php?z=80401\" title=\"M att Wong\">M att Wong</a></div></td>, <td class=\"text-right text-nowrap\">75.0<rsmall>kg</rsmall></td>, <td class=\"text-center text-nowrap\">-</td>, <td class=\"text-center text-nowrap\">180<rsmall>cm</rsmall></td>, <td class=\"text-right text-nowrap\">3.0<rsmall> wkg</rsmall></td>, <td class=\"text-right text-nowrap\">223<rsmall> w</rsmall></td>, <td class=\"text-right text-nowrap\">4.9<rsmall> wkg</rsmall></td>, <td class=\"text-right text-nowrap\">370<rsmall> w</rsmall></td>, <td class=\"text-left text-nowrap padright24\"></td>]\n",
                        "[<td class=\"text-left text-nowrap padright24\"><span class=\"label label-cat-B label-as-badge\" style=\"font-size:8px;\">B</span> </td>, <td class=\"text-left text-nowrap padright24 sorting_1\"><span class=\"label label-cat-C label-as-badge\" style=\"font-size:[object Object]px;\">C</span> </td>, <td class=\"text-right text-nowrap\"><small>600.00</small></td>, <td class=\"text-left text-nowrap athlete_col sorting_3\"><div style=\"width:100%;position:relative\"><span class=\"flag-icon flag-icon-au\"></span> <a class=\"small\" href=\"profile.php?z=3405694\" title=\"Rodney Davis\">Rodney Davis</a></div></td>, <td class=\"text-right text-nowrap\">83.0<rsmall>kg</rsmall></td>, <td class=\"text-center text-nowrap\">-</td>, <td class=\"text-center text-nowrap\"><b class=\"text-red\">174<rsmall>cm</rsmall></b></td>, <td class=\"text-right text-nowrap\">3.7<rsmall> wkg</rsmall></td>, <td class=\"text-right text-nowrap\">306<rsmall> w</rsmall></td>, <td class=\"text-right text-nowrap\">11.7<rsmall> wkg</rsmall></td>, <td class=\"text-right text-nowrap\">974<rsmall> w</rsmall></td>, <td class=\"text-left text-nowrap padright24\"></td>]\n",
                        "[<td class=\"text-left text-nowrap padright24\"><span class=\"label label-cat-C label-as-badge\" style=\"font-size:8px;\">C</span> </td>, <td class=\"text-left text-nowrap padright24 sorting_1\"><span class=\"label label-cat-C label-as-badge\" style=\"font-size:[object Object]px;\">C</span> </td>, <td class=\"text-right text-nowrap\"><small>600.00</small></td>, <td class=\"text-left text-nowrap athlete_col sorting_3\"><div style=\"width:100%;position:relative\"><span class=\"flag-icon flag-icon-dk\"></span> <a href=\"profile.php?z=2886388\" title=\"Thomas Nørgaard\">Thomas Nørgaard</a></div></td>, <td class=\"text-right text-nowrap\">73.0<rsmall>kg</rsmall></td>, <td class=\"text-center text-nowrap\">Mas</td>, <td class=\"text-center text-nowrap\">179<rsmall>cm</rsmall></td>, <td class=\"text-right text-nowrap\">3.3<rsmall> wkg</rsmall></td>, <td class=\"text-right text-nowrap\">243<rsmall> w</rsmall></td>, <td class=\"text-right text-nowrap\">5.6<rsmall> wkg</rsmall></td>, <td class=\"text-right text-nowrap\">410<rsmall> w</rsmall></td>, <td class=\"text-left text-nowrap padright24\"></td>]\n",
                        "['B C 421.65 44006 nicolas roques (TC15)TC1577.0kgVet175cm3.6 wkg280 w7.2 wkg554 w', 'B C 421.65 44006 nicolas roques (TC15)TC1577.0kgVet175cm3.6 wkg280 w7.2 wkg554 w', 'B C 421.65 44006 nicolas roques (TC15)TC1577.0kgVet175cm3.6 wkg280 w7.2 wkg554 w', 'B C 421.65 44006 nicolas roques (TC15)TC1577.0kgVet175cm3.6 wkg280 w7.2 wkg554 w', 'B C 421.65 44006 nicolas roques (TC15)TC1577.0kgVet175cm3.6 wkg280 w7.2 wkg554 w', 'B C 421.65 44006 nicolas roques (TC15)TC1577.0kgVet175cm3.6 wkg280 w7.2 wkg554 w', 'B C 421.65 44006 nicolas roques (TC15)TC1577.0kgVet175cm3.6 wkg280 w7.2 wkg554 w', 'B C 421.65 44006 nicolas roques (TC15)TC1577.0kgVet175cm3.6 wkg280 w7.2 wkg554 w', 'B C 421.65 44006 nicolas roques (TC15)TC1577.0kgVet175cm3.6 wkg280 w7.2 wkg554 w', 'B C 421.65 44006 nicolas roques (TC15)TC1577.0kgVet175cm3.6 wkg280 w7.2 wkg554 w', 'B C 421.65 44006 nicolas roques (TC15)TC1577.0kgVet175cm3.6 wkg280 w7.2 wkg554 w', 'B C 421.65 44006 nicolas roques (TC15)TC1577.0kgVet175cm3.6 wkg280 w7.2 wkg554 w']\n"
                    ]
                }
            ],
            "metadata": {}
        },
        {
            "cell_type": "code",
            "execution_count": 38,
            "source": [
                "#### cleasing data of each rider ####\r\n",
                "\r\n",
                "for entry in rider:\r\n",
                "\r\n",
                "    # class zp\r\n",
                "    entry[0] = entry[0]\r\n",
                "\r\n",
                "    # class own\r\n",
                "    entry[1] = entry[1]\r\n",
                "\r\n",
                "    # rank\r\n",
                "    entry[2] = entry[2]\r\n",
                "\r\n",
                "    # name\r\n",
                "    entry[3] = entry[3]\r\n",
                "\r\n",
                "    # weight\r\n",
                "    entry[4] = entry[4].replace('kg', '')\r\n",
                "\r\n",
                "    # age group\r\n",
                "    entry[5] = entry[5]\r\n",
                "\r\n",
                "    # height\r\n",
                "    entry[6] = entry[6].replace('cm', '')\r\n",
                "    \r\n",
                "    # twenty minute wkg\r\n",
                "    entry[7] = entry[7].replace(' wkg', '')\r\n",
                "\r\n",
                "    # twenty minute watts\r\n",
                "    entry[8] = entry[8].replace(' w', '')\r\n",
                "\r\n",
                "    # fifteen second wkg\r\n",
                "    entry[9] = entry[9].replace(' wkg', '')\r\n",
                "\r\n",
                "    # fifteen second watts\r\n",
                "    entry[10] = entry[10].replace(' w', '')\r\n",
                "\r\n",
                "    print(entry)\r\n",
                "    \r\n"
            ],
            "outputs": [
                {
                    "output_type": "error",
                    "ename": "IndexError",
                    "evalue": "list index out of range",
                    "traceback": [
                        "\u001b[1;31m---------------------------------------------------------------------------\u001b[0m",
                        "\u001b[1;31mIndexError\u001b[0m                                Traceback (most recent call last)",
                        "\u001b[1;32m~\\AppData\\Local\\Temp/ipykernel_5480/2776029587.py\u001b[0m in \u001b[0;36m<module>\u001b[1;34m\u001b[0m\n\u001b[0;32m      4\u001b[0m \u001b[1;33m\u001b[0m\u001b[0m\n\u001b[0;32m      5\u001b[0m     \u001b[1;31m# class zp\u001b[0m\u001b[1;33m\u001b[0m\u001b[1;33m\u001b[0m\u001b[1;33m\u001b[0m\u001b[0m\n\u001b[1;32m----> 6\u001b[1;33m     \u001b[0mentry\u001b[0m\u001b[1;33m[\u001b[0m\u001b[1;36m0\u001b[0m\u001b[1;33m]\u001b[0m \u001b[1;33m=\u001b[0m \u001b[0mentry\u001b[0m\u001b[1;33m[\u001b[0m\u001b[1;36m0\u001b[0m\u001b[1;33m]\u001b[0m\u001b[1;33m\u001b[0m\u001b[1;33m\u001b[0m\u001b[0m\n\u001b[0m\u001b[0;32m      7\u001b[0m \u001b[1;33m\u001b[0m\u001b[0m\n\u001b[0;32m      8\u001b[0m     \u001b[1;31m# class own\u001b[0m\u001b[1;33m\u001b[0m\u001b[1;33m\u001b[0m\u001b[1;33m\u001b[0m\u001b[0m\n",
                        "\u001b[1;31mIndexError\u001b[0m: list index out of range"
                    ]
                }
            ],
            "metadata": {}
        }
    ],
    "metadata": {
        "orig_nbformat": 4,
        "language_info": {
            "name": "python",
            "version": "3.9.6",
            "mimetype": "text/x-python",
            "codemirror_mode": {
                "name": "ipython",
                "version": 3
            },
            "pygments_lexer": "ipython3",
            "nbconvert_exporter": "python",
            "file_extension": ".py"
        },
        "kernelspec": {
            "name": "python3",
            "display_name": "Python 3.9.6 64-bit (windows store)"
        },
        "interpreter": {
            "hash": "774e6fcc6f070d51f9cbbd5d451bfead29794729b3d25570d8ca11c219a5e420"
        }
    },
    "nbformat": 4,
    "nbformat_minor": 2
}