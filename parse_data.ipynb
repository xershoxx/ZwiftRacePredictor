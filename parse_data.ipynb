{
    "cells": [
        {
            "cell_type": "code",
            "execution_count": 2,
            "source": [
                "from bs4 import BeautifulSoup"
            ],
            "outputs": [],
            "metadata": {}
        },
        {
            "cell_type": "code",
            "execution_count": 3,
            "source": [
                "#### reading and formatting input ####\r\n",
                "\r\n",
                "# read raw data from file\r\n",
                "file1 = open(\"signups.txt\",\"r+\") \r\n",
                "raw_data = file1.read()\r\n",
                "\r\n",
                "# format raw data\r\n",
                "formated_data = BeautifulSoup(raw_data, \"lxml\")\r\n",
                "\r\n",
                "# extract signup table from formated data\r\n",
                "signups = formated_data.find('table', {'id':'table_event_signups'})\r\n",
                "\r\n",
                "# split signup table into rows, creating the field (array of riders)\r\n",
                "field = signups.find_all('tr')"
            ],
            "outputs": [],
            "metadata": {}
        },
        {
            "cell_type": "code",
            "execution_count": 4,
            "source": [
                "#### splitting input into rider list ####\r\n",
                "\r\n",
                "rider = []\r\n",
                "\r\n",
                "# each row in field is one rider\r\n",
                "for row in field:\r\n",
                "\r\n",
                "    # split row into riders attributes\r\n",
                "    td = row.find_all('td')\r\n",
                "\r\n",
                "    # remove overhead\r\n",
                "    row = [row.text.strip() for i in td if row.text.strip()]\r\n",
                "\r\n",
                "    # add rider to list\r\n",
                "    rider.append(row)\r\n",
                "\r\n",
                "print(rider[4])"
            ],
            "outputs": [
                {
                    "output_type": "stream",
                    "name": "stdout",
                    "text": [
                        "['B C 421.65 44006 nicolas roques (TC15)TC1577.0kgVet175cm3.6 wkg280 w7.2 wkg554 w', 'B C 421.65 44006 nicolas roques (TC15)TC1577.0kgVet175cm3.6 wkg280 w7.2 wkg554 w', 'B C 421.65 44006 nicolas roques (TC15)TC1577.0kgVet175cm3.6 wkg280 w7.2 wkg554 w', 'B C 421.65 44006 nicolas roques (TC15)TC1577.0kgVet175cm3.6 wkg280 w7.2 wkg554 w', 'B C 421.65 44006 nicolas roques (TC15)TC1577.0kgVet175cm3.6 wkg280 w7.2 wkg554 w', 'B C 421.65 44006 nicolas roques (TC15)TC1577.0kgVet175cm3.6 wkg280 w7.2 wkg554 w', 'B C 421.65 44006 nicolas roques (TC15)TC1577.0kgVet175cm3.6 wkg280 w7.2 wkg554 w', 'B C 421.65 44006 nicolas roques (TC15)TC1577.0kgVet175cm3.6 wkg280 w7.2 wkg554 w', 'B C 421.65 44006 nicolas roques (TC15)TC1577.0kgVet175cm3.6 wkg280 w7.2 wkg554 w', 'B C 421.65 44006 nicolas roques (TC15)TC1577.0kgVet175cm3.6 wkg280 w7.2 wkg554 w', 'B C 421.65 44006 nicolas roques (TC15)TC1577.0kgVet175cm3.6 wkg280 w7.2 wkg554 w', 'B C 421.65 44006 nicolas roques (TC15)TC1577.0kgVet175cm3.6 wkg280 w7.2 wkg554 w']\n"
                    ]
                }
            ],
            "metadata": {}
        },
        {
            "cell_type": "code",
            "execution_count": 38,
            "source": [
                "#### cleasing data of each rider ####\r\n",
                "\r\n",
                "for entry in rider:\r\n",
                "\r\n",
                "    # class zp\r\n",
                "    entry[0] = entry[0]\r\n",
                "\r\n",
                "    # class own\r\n",
                "    entry[1] = entry[1]\r\n",
                "\r\n",
                "    # rank\r\n",
                "    entry[2] = entry[2]\r\n",
                "\r\n",
                "    # name\r\n",
                "    entry[3] = entry[3]\r\n",
                "\r\n",
                "    # weight\r\n",
                "    entry[4] = entry[4].replace('kg', '')\r\n",
                "\r\n",
                "    # age group\r\n",
                "    entry[5] = entry[5]\r\n",
                "\r\n",
                "    # height\r\n",
                "    entry[6] = entry[6].replace('cm', '')\r\n",
                "    \r\n",
                "    # twenty minute wkg\r\n",
                "    entry[7] = entry[7].replace(' wkg', '')\r\n",
                "\r\n",
                "    # twenty minute watts\r\n",
                "    entry[8] = entry[8].replace(' w', '')\r\n",
                "\r\n",
                "    # fifteen second wkg\r\n",
                "    entry[9] = entry[9].replace(' wkg', '')\r\n",
                "\r\n",
                "    # fifteen second watts\r\n",
                "    entry[10] = entry[10].replace(' w', '')\r\n",
                "\r\n",
                "    print(entry)\r\n",
                "    \r\n"
            ],
            "outputs": [
                {
                    "output_type": "error",
                    "ename": "IndexError",
                    "evalue": "list index out of range",
                    "traceback": [
                        "\u001b[1;31m---------------------------------------------------------------------------\u001b[0m",
                        "\u001b[1;31mIndexError\u001b[0m                                Traceback (most recent call last)",
                        "\u001b[1;32m~\\AppData\\Local\\Temp/ipykernel_5480/2776029587.py\u001b[0m in \u001b[0;36m<module>\u001b[1;34m\u001b[0m\n\u001b[0;32m      4\u001b[0m \u001b[1;33m\u001b[0m\u001b[0m\n\u001b[0;32m      5\u001b[0m     \u001b[1;31m# class zp\u001b[0m\u001b[1;33m\u001b[0m\u001b[1;33m\u001b[0m\u001b[1;33m\u001b[0m\u001b[0m\n\u001b[1;32m----> 6\u001b[1;33m     \u001b[0mentry\u001b[0m\u001b[1;33m[\u001b[0m\u001b[1;36m0\u001b[0m\u001b[1;33m]\u001b[0m \u001b[1;33m=\u001b[0m \u001b[0mentry\u001b[0m\u001b[1;33m[\u001b[0m\u001b[1;36m0\u001b[0m\u001b[1;33m]\u001b[0m\u001b[1;33m\u001b[0m\u001b[1;33m\u001b[0m\u001b[0m\n\u001b[0m\u001b[0;32m      7\u001b[0m \u001b[1;33m\u001b[0m\u001b[0m\n\u001b[0;32m      8\u001b[0m     \u001b[1;31m# class own\u001b[0m\u001b[1;33m\u001b[0m\u001b[1;33m\u001b[0m\u001b[1;33m\u001b[0m\u001b[0m\n",
                        "\u001b[1;31mIndexError\u001b[0m: list index out of range"
                    ]
                }
            ],
            "metadata": {}
        }
    ],
    "metadata": {
        "orig_nbformat": 4,
        "language_info": {
            "name": "python",
            "version": "3.9.6",
            "mimetype": "text/x-python",
            "codemirror_mode": {
                "name": "ipython",
                "version": 3
            },
            "pygments_lexer": "ipython3",
            "nbconvert_exporter": "python",
            "file_extension": ".py"
        },
        "kernelspec": {
            "name": "python3",
            "display_name": "Python 3.9.6 64-bit (windows store)"
        },
        "interpreter": {
            "hash": "774e6fcc6f070d51f9cbbd5d451bfead29794729b3d25570d8ca11c219a5e420"
        }
    },
    "nbformat": 4,
    "nbformat_minor": 2
}